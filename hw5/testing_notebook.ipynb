{
 "cells": [
  {
   "cell_type": "code",
   "execution_count": 2,
   "metadata": {
    "collapsed": false
   },
   "outputs": [
    {
     "name": "stdout",
     "output_type": "stream",
     "text": [
      "10\n",
      "9\n",
      "8\n",
      "7\n",
      "6\n"
     ]
    }
   ],
   "source": [
    "for i in range(10, 5, -1):\n",
    "    print(i)"
   ]
  },
  {
   "cell_type": "code",
   "execution_count": 4,
   "metadata": {
    "collapsed": false
   },
   "outputs": [
    {
     "name": "stdout",
     "output_type": "stream",
     "text": [
      "[0, 0, 0, 0, 0]\n",
      "[7.8, 5.3, 0, 0, 3]\n",
      "16.1\n",
      "[60.839999999999996, 28.09, 0, 0, 9]\n",
      "[3.9, 2.65, 0, 0, 1]\n",
      "[4.9, 3.65, 1, 1, 2]\n"
     ]
    }
   ],
   "source": [
    "arr = [0] * 5\n",
    "print(arr)\n",
    "arr[1] = 5.3\n",
    "arr[4] = 3\n",
    "arr[0] = 7.8\n",
    "print(arr)\n",
    "print(sum(arr))\n",
    "\n",
    "print([a*b for a,b in zip(arr,arr)])\n",
    "\n",
    "arr = [x / 2 for x in arr]\n",
    "print(arr)\n",
    "\n",
    "arr = [x + 1 for x in arr]\n",
    "print(arr)"
   ]
  },
  {
   "cell_type": "code",
   "execution_count": null,
   "metadata": {
    "collapsed": true
   },
   "outputs": [],
   "source": []
  }
 ],
 "metadata": {
  "kernelspec": {
   "display_name": "Python 2",
   "language": "python",
   "name": "python2"
  },
  "language_info": {
   "codemirror_mode": {
    "name": "ipython",
    "version": 2
   },
   "file_extension": ".py",
   "mimetype": "text/x-python",
   "name": "python",
   "nbconvert_exporter": "python",
   "pygments_lexer": "ipython2",
   "version": "2.7.12"
  }
 },
 "nbformat": 4,
 "nbformat_minor": 0
}
