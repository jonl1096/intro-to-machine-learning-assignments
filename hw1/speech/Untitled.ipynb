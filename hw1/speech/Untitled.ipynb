{
 "cells": [
  {
   "cell_type": "code",
   "execution_count": 14,
   "metadata": {
    "collapsed": false
   },
   "outputs": [
    {
     "name": "stdout",
     "output_type": "stream",
     "text": [
      "(0, 12), 14.0\n",
      "42.0\n",
      "(0, 25), 235.0\n",
      "705.0\n"
     ]
    }
   ],
   "source": [
    "import numpy as np\n",
    "from scipy.sparse import csr_matrix, lil_matrix, coo_matrix\n",
    "\n",
    "A = csr_matrix([1, 2, 0])\n",
    "\n",
    "vector = lil_matrix((1, 617), dtype=np.float32)\n",
    "\n",
    "vector[0, 12] = 14\n",
    "\n",
    "vector[0, 25] = 235 \n",
    "\n",
    "cx = coo_matrix(vector)\n",
    "\n",
    "for i,j,v in zip(cx.row, cx.col, cx.data):\n",
    "    print (\"(%d, %d), %s\" % (i,j,v))\n",
    "    print (v * 3)\n",
    "\n"
   ]
  },
  {
   "cell_type": "code",
   "execution_count": 20,
   "metadata": {
    "collapsed": false
   },
   "outputs": [
    {
     "name": "stdout",
     "output_type": "stream",
     "text": [
      "4\n"
     ]
    }
   ],
   "source": [
    "x = 1\n",
    "x += 3\n",
    "print(x)"
   ]
  },
  {
   "cell_type": "code",
   "execution_count": 12,
   "metadata": {
    "collapsed": false
   },
   "outputs": [
    {
     "name": "stdout",
     "output_type": "stream",
     "text": [
      "[[1]\n",
      " [2]\n",
      " [3]\n",
      " [4]]\n",
      "[[1 2 3 4]]\n",
      "3\n"
     ]
    }
   ],
   "source": [
    "import numpy as np\n",
    "\n",
    "points = np.vstack([1,2,3,4])\n",
    "\n",
    "print(points)\n",
    "\n",
    "points2 = np.transpose(points)\n",
    "\n",
    "print(points2)\n",
    "\n",
    "temp = points2[0]\n",
    "\n",
    "print(temp[2])"
   ]
  },
  {
   "cell_type": "code",
   "execution_count": null,
   "metadata": {
    "collapsed": true
   },
   "outputs": [],
   "source": []
  }
 ],
 "metadata": {
  "kernelspec": {
   "display_name": "Python 3",
   "language": "python",
   "name": "python3"
  },
  "language_info": {
   "codemirror_mode": {
    "name": "ipython",
    "version": 3
   },
   "file_extension": ".py",
   "mimetype": "text/x-python",
   "name": "python",
   "nbconvert_exporter": "python",
   "pygments_lexer": "ipython3",
   "version": "3.5.2"
  }
 },
 "nbformat": 4,
 "nbformat_minor": 0
}
